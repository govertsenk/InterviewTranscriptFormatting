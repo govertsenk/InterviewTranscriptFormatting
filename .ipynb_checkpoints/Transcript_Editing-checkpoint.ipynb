{
 "cells": [
  {
   "cell_type": "code",
   "execution_count": 2,
   "id": "ac3a184b",
   "metadata": {},
   "outputs": [
    {
     "name": "stdout",
     "output_type": "stream",
     "text": [
      "['Interview_Sample.docx']\n"
     ]
    }
   ],
   "source": [
    "# Install python-docx: https://python-docx.readthedocs.io/en/latest/\n",
    "#pip install python-docx\n",
    "\n",
    "# Save this script in the same folder as your transcripts(.docx)\n",
    "import os\n",
    "\n",
    "# Get Current Working Directory\n",
    "os.getcwd()\n",
    "\n",
    "# Initialize File Name (fn) Array\n",
    "fn = []\n",
    "\n",
    "# Create a list of file names in the current directory for all .docx files\n",
    "for file in os.listdir():\n",
    "    # check only docx files\n",
    "    if file.endswith('.docx'):\n",
    "        fn.append(file)\n",
    "        \n",
    "# Display file names list        \n",
    "print(fn)\n",
    "      "
   ]
  },
  {
   "cell_type": "code",
   "execution_count": 4,
   "id": "ef349249",
   "metadata": {
    "scrolled": true
   },
   "outputs": [],
   "source": [
    "# If the line above lists all of your files, you are ready to run this cell :) \n",
    "\n",
    "# For each file...\n",
    "for iFile in fn:\n",
    "    \n",
    "    # Import existing transcript word document\n",
    "    from docx import Document\n",
    "    document = Document(iFile)\n",
    "\n",
    "    # Create a new document where the new formated transcript will be saved\n",
    "    # We will NOT be saving over the original \n",
    "    new_document = Document()\n",
    "\n",
    "    # Import style editors\n",
    "    from docx.enum.style import WD_STYLE_TYPE\n",
    "    from docx.shared import RGBColor\n",
    "    from docx.shared import Pt \n",
    "\n",
    "    # These are how I formatted my transcripts. Feel free to change the font, color, size, etc to your own liking\n",
    "    \n",
    "    # Researcher Title Formatting\n",
    "    styles = new_document.styles\n",
    "    style = styles.add_style('Researcher Title',WD_STYLE_TYPE.PARAGRAPH) # name\n",
    "    style.font.color.rgb = RGBColor(0,0,0) # Black\n",
    "    style.font.size = Pt(16) # Size 16\n",
    "    style.hidden = False # dont hide\n",
    "    style.quick_style = True # make a quick style\n",
    "\n",
    "    # Researcher Quote  Formatting\n",
    "    style = styles.add_style('Researcher Quote',WD_STYLE_TYPE.PARAGRAPH)  # name\n",
    "    style.font.italic = True # Italic\n",
    "    style.font.color.rgb = RGBColor(0,0,0) # Black\n",
    "    styles['Researcher Title'].next_paragraph_style = styles['Researcher Quote']\n",
    "    style.hidden = False\n",
    "    style.quick_style = True\n",
    "\n",
    "    # Particpant Title  Formatting\n",
    "    style = styles.add_style('Participant Title',WD_STYLE_TYPE.PARAGRAPH)  # name\n",
    "    style.font.color.rgb = RGBColor(105,164,216) # Blue\n",
    "    style.font.size = Pt(16) # Size 16\n",
    "    style.hidden = False\n",
    "    style.quick_style = True\n",
    "\n",
    "    # Particpant Quote\n",
    "    style = styles.add_style('Participant Quote',WD_STYLE_TYPE.PARAGRAPH)  # name\n",
    "    style.font.color.rgb = RGBColor(105,164,216) # blac\n",
    "    styles['Participant Title'].next_paragraph_style = styles['Participant Quote']\n",
    "    style.hidden = False\n",
    "    style.quick_style = True\n",
    "    \n",
    "    # Transfer the transcript to new document with correct styles for each speaker title and quote\n",
    "    P = 0\n",
    "    for paragraph in document.paragraphs:\n",
    "        # if the paragraph is from a researcher\n",
    "        if (paragraph.text.startswith('Researcher') is True ):\n",
    "            new_paragraph = new_document.add_paragraph(paragraph.text,style='Researcher Title')\n",
    "            P = P + 1\n",
    "            new_paragraph = new_document.add_paragraph(document.paragraphs[P].text, style = 'Researcher Quote')\n",
    "            P = P + 1\n",
    "        # if the paragraph is from a participant\n",
    "        elif(paragraph.text.startswith('Participant') is True):\n",
    "            new_paragraph = new_document.add_paragraph(paragraph.text,style='Participant Title')\n",
    "            P = P + 1\n",
    "            new_paragraph = new_document.add_paragraph(document.paragraphs[P].text,style = 'Participant Quote')\n",
    "            P = P + 1\n",
    "        # remove the 'part X of X from the document (this is for REV files)\n",
    "        elif(paragraph.text.startswith('PART') is True):\n",
    "            P = P + 1        \n",
    "    \n",
    "    # Save file as the formatted transcript\n",
    "    new_document.save('Formatted_' + iFile) \n",
    "    \n",
    "    # Viola! "
   ]
  }
 ],
 "metadata": {
  "kernelspec": {
   "display_name": "Python 3 (ipykernel)",
   "language": "python",
   "name": "python3"
  },
  "language_info": {
   "codemirror_mode": {
    "name": "ipython",
    "version": 3
   },
   "file_extension": ".py",
   "mimetype": "text/x-python",
   "name": "python",
   "nbconvert_exporter": "python",
   "pygments_lexer": "ipython3",
   "version": "3.9.7"
  }
 },
 "nbformat": 4,
 "nbformat_minor": 5
}
